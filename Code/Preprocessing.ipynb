{
 "cells": [
  {
   "cell_type": "code",
   "execution_count": null,
   "metadata": {
    "collapsed": true
   },
   "outputs": [],
   "source": [
    "import pandas as pd\n",
    "import numpy as np\n",
    "from sklearn.preprocessing import LabelEncoder, StandardScaler\n",
    "from sklearn.ensemble import RandomForestClassifier\n",
    "from sklearn.compose import ColumnTransformer\n",
    "from sklearn.metrics import classification_report, confusion_matrix, accuracy_score, roc_auc_score,RocCurveDisplay,auc\n",
    "from sklearn.model_selection import train_test_split, GridSearchCV,  LeavePGroupsOut, cross_validate, GroupKFold, StratifiedGroupKFold\n",
    "from sklearn.impute import KNNImputer\n",
    "from xgboost import XGBClassifier,XGBRFClassifier\n",
    "import matplotlib.pyplot as plt\n",
    "import joblib\n",
    "import random\n",
    "import itertools\n",
    "from scipy.stats import randint,uniform\n",
    "\n",
    "\n",
    "from sklearn.experimental import enable_halving_search_cv\n",
    "from sklearn.model_selection import HalvingRandomSearchCV, HalvingGridSearchCV"
   ]
  },
  {
   "cell_type": "code",
   "execution_count": null,
   "outputs": [],
   "source": [
    "#--------------------------------------------------------------------------------------\n",
    "#------ Import Data and create dataframe with all applicable features\n",
    "#--------------------------------------------------------------------------------------\n",
    "df=pd.read_csv(\"../data/51061fe4eb0cb9da61ebd13d39879eefb5bfe33f103d3a80c7123deb5e1cd8c9.dat\", compression=\"gzip\",sep=\";\")\n",
    "#Data Preprocessing\n",
    "headers = [\"target__y\",\"group__uid\"]\n",
    "for c in df.columns:\n",
    "    if c[:5]==\"feats\":\n",
    "        headers.append(c)\n",
    "pdf = pd.DataFrame(df,columns=headers)\n"
   ],
   "metadata": {
    "collapsed": false,
    "pycharm": {
     "name": "#%%\n"
    }
   }
  },
  {
   "cell_type": "code",
   "execution_count": null,
   "outputs": [],
   "source": [
    "#--------------------------------------------------------------------------------------\n",
    "#------ Remove erronenous daga points\n",
    "#--------------------------------------------------------------------------------------\n",
    "exclude = [\"target__y\",\"group__uid\",\"feats__cirk_vikt\",\"feats__bw\",\"feats__sex\",\"feats__pnage_days\"]\n",
    "for column in pdf.columns.values:\n",
    "    if column not in exclude:\n",
    "        pdf = pdf[(pdf[column]!=-99999) & (pdf[column] != -999)]"
   ],
   "metadata": {
    "collapsed": false,
    "pycharm": {
     "name": "#%%\n"
    }
   }
  },
  {
   "cell_type": "code",
   "execution_count": null,
   "outputs": [],
   "source": [
    "#--------------------------------------------------------------------------------------\n",
    "#------ LabelEncoder\n",
    "#--------------------------------------------------------------------------------------\n",
    "le = LabelEncoder()\n",
    "le.fit(pdf[\"group__uid\"])\n",
    "pdf[\"group__uid\"] = le.transform(pdf[\"group__uid\"])\n"
   ],
   "metadata": {
    "collapsed": false,
    "pycharm": {
     "name": "#%%\n"
    }
   }
  },
  {
   "cell_type": "code",
   "execution_count": null,
   "outputs": [],
   "source": [
    "#--------------------------------------------------------------------------------------\n",
    "#------ Standard Scaling\n",
    "#--------------------------------------------------------------------------------------\n",
    "scaler = StandardScaler()\n",
    "to_scale = [c for c in headers if c not in [\"target__y\",\"group__uid\"]]\n",
    "pdf[to_scale] = scaler.fit_transform(pdf[to_scale])"
   ],
   "metadata": {
    "collapsed": false,
    "pycharm": {
     "name": "#%%\n"
    }
   }
  },
  {
   "cell_type": "code",
   "execution_count": null,
   "outputs": [],
   "source": [
    "#--------------------------------------------------------------------------------------\n",
    "#------ KNN Imputer\n",
    "#--------------------------------------------------------------------------------------\n",
    "print(f\"Missing {pdf.isna().any(axis=1).sum()} out of {pdf.any(axis=1).sum()}\")\n",
    "imputer = KNNImputer()\n",
    "imputer.fit(pdf)\n",
    "pdf = pd.DataFrame(imputer.transform(pdf),columns=pdf.columns.values)\n",
    "print(f\"Missing {pdf.isna().any(axis=1).sum()} out of {pdf.any(axis=1).sum()}\")"
   ],
   "metadata": {
    "collapsed": false,
    "pycharm": {
     "name": "#%%\n"
    }
   }
  },
  {
   "cell_type": "code",
   "execution_count": null,
   "outputs": [],
   "source": [
    "#--------------------------------------------------------------------------------------\n",
    "#------ Separate dataframe and calculate scale pos weight\n",
    "#--------------------------------------------------------------------------------------\n",
    "ids = pdf.pop(\"group__uid\")\n",
    "y = pdf.pop(\"target__y\")\n",
    "X = pdf\n",
    "# print(ids)\n",
    "# print(noPos,noNeg,scale_pos_weight)\n",
    "#StratifiedGroupKFold\n",
    "noPos = (y==1).sum()\n",
    "noNeg = (y==0).sum()\n",
    "scale_pos_weight=noNeg/noPos\n",
    "# print(noPos,noNeg,scale_pos_weight)\n",
    "#--------------------------------------------------------\n",
    "#--------------------------------------------------------"
   ],
   "metadata": {
    "collapsed": false,
    "pycharm": {
     "name": "#%%\n"
    }
   }
  }
 ],
 "metadata": {
  "kernelspec": {
   "display_name": "Python 3",
   "language": "python",
   "name": "python3"
  },
  "language_info": {
   "codemirror_mode": {
    "name": "ipython",
    "version": 2
   },
   "file_extension": ".py",
   "mimetype": "text/x-python",
   "name": "python",
   "nbconvert_exporter": "python",
   "pygments_lexer": "ipython2",
   "version": "2.7.6"
  }
 },
 "nbformat": 4,
 "nbformat_minor": 0
}