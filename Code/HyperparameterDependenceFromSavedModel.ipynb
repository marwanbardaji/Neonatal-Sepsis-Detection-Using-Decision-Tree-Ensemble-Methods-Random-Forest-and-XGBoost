{
 "cells": [
  {
   "cell_type": "code",
   "execution_count": null,
   "metadata": {
    "collapsed": true
   },
   "outputs": [],
   "source": [
    "import joblib\n",
    "import matplotlib.pyplot as plt"
   ]
  },
  {
   "cell_type": "code",
   "execution_count": null,
   "outputs": [],
   "source": [
    "tuner = joblib.load(\"rfgridsearch1.pkl\")\n",
    "#Has to return trainscores"
   ],
   "metadata": {
    "collapsed": false,
    "pycharm": {
     "name": "#%%\n"
    }
   }
  },
  {
   "cell_type": "code",
   "execution_count": null,
   "outputs": [],
   "source": [
    "tuner.cv_results_"
   ],
   "metadata": {
    "collapsed": false,
    "pycharm": {
     "name": "#%%\n"
    }
   }
  },
  {
   "cell_type": "code",
   "execution_count": null,
   "outputs": [],
   "source": [
    "params = tuner.cv_results_[\"params\"]\n",
    "scores = tuner.cv_results_[\"mean_test_score\"]\n",
    "stds = tuner.cv_results_[\"std_test_score\"]\n",
    "ranks = tuner.cv_results_[\"rank_test_score\"]\n",
    "scores_training = tuner.cv_results_[\"mean_train_score\"]\n",
    "\n",
    "constants = list(params[0].keys())\n",
    "for constant in constants:\n",
    "    print(constant)\n",
    "    dictt={}\n",
    "    for param, score, std, rank,score_train in zip(params, scores, stds, ranks,scores_training):\n",
    "        tag = ''.join([str(p) for p,k in zip(param.values(),param.keys()) if k != constant])\n",
    "        if tag not in dictt.keys():\n",
    "            dictt[tag]=[]\n",
    "        dictt[tag].append((param[constant],score,score_train))\n",
    "    plt.clf()\n",
    "    colors = ['c','m','y','b','g','r']\n",
    "    i = 0\n",
    "    legend1 = []\n",
    "    legend1 = []\n",
    "    fig,axes=plt.subplots()\n",
    "    lines = []\n",
    "    for values, title in sorted(list(zip(dictt.values(),dictt.keys())),key = lambda x: len(x[0]),reverse=True)[:5]:\n",
    "        i+=1\n",
    "        x,y,y2 = list(zip(*values))\n",
    "        if len(x) > 1:\n",
    "            toadd = axes.plot(x,y,label=f\"Combination {1}\",color = colors[i], marker = '.')\n",
    "            axes.plot(x,y2,color = colors[i], marker = '.',linestyle='dashed')\n",
    "            lines.append(toadd[0])\n",
    "\n",
    "    if len(x) > 1:\n",
    "        dummy_lines = []\n",
    "        plt.legend()\n",
    "        dummy_lines.append(axes.plot([],[],c=\"black\")[0])\n",
    "        dummy_lines.append(axes.plot([],[],c=\"black\",ls = 'dashed')[0])\n",
    "        legend1 = plt.legend([lines[i] for i in range(0,len(lines))],[f\"Combination {i+1}\" for i in range(0,len(lines))],bbox_to_anchor=(1.04,0),loc=\"lower left\")\n",
    "        legend2 = plt.legend([dummy_lines[i] for i in [0,1]],[\"Testing\",\"Training\"],bbox_to_anchor=(1.04,1),loc=\"upper left\")\n",
    "        axes.add_artist(legend1)\n",
    "        title = f\"Random Forest: {constant}\"\n",
    "        plt.title(title)\n",
    "        plt.xlabel(constant)\n",
    "        plt.ylabel(\"ROC AUC Score\")\n",
    "        plt.savefig(f\"subdirectory/{title}.png\",bbox_inches='tight')"
   ],
   "metadata": {
    "collapsed": false,
    "pycharm": {
     "name": "#%%\n"
    }
   }
  }
 ],
 "metadata": {
  "kernelspec": {
   "display_name": "Python 3",
   "language": "python",
   "name": "python3"
  },
  "language_info": {
   "codemirror_mode": {
    "name": "ipython",
    "version": 2
   },
   "file_extension": ".py",
   "mimetype": "text/x-python",
   "name": "python",
   "nbconvert_exporter": "python",
   "pygments_lexer": "ipython2",
   "version": "2.7.6"
  }
 },
 "nbformat": 4,
 "nbformat_minor": 0
}